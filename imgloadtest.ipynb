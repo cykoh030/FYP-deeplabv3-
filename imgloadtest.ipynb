{
 "metadata": {
  "language_info": {
   "codemirror_mode": {
    "name": "ipython",
    "version": 3
   },
   "file_extension": ".py",
   "mimetype": "text/x-python",
   "name": "python",
   "nbconvert_exporter": "python",
   "pygments_lexer": "ipython3",
   "version": "3.7.10"
  },
  "orig_nbformat": 2,
  "kernelspec": {
   "name": "python3710jvsc74a57bd09e3f7895435e17814ba5a310af616f193d21d0871b286a5b86fe92605af8cf93",
   "display_name": "Python 3.7.10 64-bit ('tf2cy': conda)"
  }
 },
 "nbformat": 4,
 "nbformat_minor": 2,
 "cells": [
  {
   "cell_type": "code",
   "execution_count": 14,
   "metadata": {},
   "outputs": [],
   "source": [
    "import os\n",
    "vipshome = 'E:/chengyong/vips-dev-8.10/bin'\n",
    "os.environ['PATH'] = vipshome + ';' + os.environ['PATH']\n",
    "import numpy as np \n",
    "import pyvips \n",
    "import cv2\n",
    "from PIL import Image \n",
    "import timeit\n",
    "\n",
    "def usingPIL(f): \n",
    "    im = Image.open(f)\n",
    "    return np.asarray(im) \n",
    "\n",
    "def usingOpenCV(f): \n",
    "    arr = cv2.imread(f,cv2.IMREAD_UNCHANGED)\n",
    "    return arr \n",
    "\n",
    "def usingVIPS(f):\n",
    "    image = pyvips.Image.new_from_file(f, access=\"sequential\")\n",
    "    image = image.colourspace(\"srgb\")\n",
    "    mem_img = image.write_to_memory() \n",
    "    imgnp=np.frombuffer(mem_img, dtype=np.uint8).reshape(image.height, image.width, 3)  \n",
    "    return imgnp \n",
    "\n",
    "def usingPILandShrink(f): \n",
    "    im = Image.open(f)  \n",
    "    im.draft('RGB',(1512,1008))\n",
    "    return np.asarray(im) \n",
    "\n",
    "def usingVIPSandShrink(f):\n",
    "    image = pyvips.Image.new_from_file(f, access=\"sequential\", shrink=4)\n",
    "    image = image.colourspace(\"srgb\")\n",
    "    mem_img = image.write_to_memory()\n",
    "    imgnp=np.frombuffer(mem_img, dtype=np.uint8).reshape(image.height, image.width, 3)\n",
    "    return imgnp"
   ]
  },
  {
   "cell_type": "code",
   "execution_count": 15,
   "metadata": {},
   "outputs": [
    {
     "output_type": "stream",
     "name": "stdout",
     "text": [
      "39 ms ± 3.22 ms per loop (mean ± std. dev. of 7 runs, 10 loops each)\n",
      "34.3 ms ± 6.2 ms per loop (mean ± std. dev. of 7 runs, 10 loops each)\n",
      "21.1 ms ± 811 µs per loop (mean ± std. dev. of 7 runs, 10 loops each)\n",
      "41.3 ms ± 3.42 ms per loop (mean ± std. dev. of 7 runs, 10 loops each)\n",
      "11 ms ± 143 µs per loop (mean ± std. dev. of 7 runs, 100 loops each)\n"
     ]
    }
   ],
   "source": [
    "%timeit usingPIL(\"E:/chengyong/semantic/videos_cropped_black/test__r0010/car/30fps_image/test_0001.jpg\")\n",
    "\n",
    "%timeit usingOpenCV(\"E:/chengyong/semantic/videos_cropped_black/test__r0010/car/30fps_image/test_0001.jpg\")\n",
    "\n",
    "%timeit usingVIPS(\"E:/chengyong/semantic/videos_cropped_black/test__r0010/car/30fps_image/test_0001.jpg\")\n",
    "\n",
    "%timeit usingPILandShrink(\"E:/chengyong/semantic/videos_cropped_black/test__r0010/car/30fps_image/test_0001.jpg\")\n",
    "\n",
    "%timeit usingVIPSandShrink(\"E:/chengyong/semantic/videos_cropped_black/test__r0010/car/30fps_image/test_0001.jpg\")                                                    "
   ]
  },
  {
   "cell_type": "code",
   "execution_count": null,
   "metadata": {},
   "outputs": [],
   "source": []
  }
 ]
}